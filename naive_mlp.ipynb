{
 "cells": [
  {
   "cell_type": "code",
   "execution_count": 1,
   "metadata": {},
   "outputs": [],
   "source": [
    "# This notebook contains a naive mlp for garbage classification\n",
    "%load_ext autoreload\n",
    "%autoreload 2\n",
    "import torch\n",
    "import torch.nn as nn\n",
    "import utils\n",
    "from vocab import Vocabulary\n",
    "import pandas as pd\n",
    "import numpy as np\n",
    "import torch.nn.functional as F\n",
    "from torch.utils.data.dataloader import DataLoader\n",
    "\n",
    "seed = 666\n",
    "np.random.seed(seed)\n",
    "torch.manual_seed(seed)\n",
    "torch.cuda.manual_seed(seed)\n",
    "torch.backends.cudnn.deterministic = True"
   ]
  },
  {
   "cell_type": "code",
   "execution_count": 2,
   "metadata": {},
   "outputs": [
    {
     "name": "stderr",
     "output_type": "stream",
     "text": [
      "400000it [00:12, 31075.57it/s]\n"
     ]
    }
   ],
   "source": [
    "import os\n",
    "EMB_DIM = 100 # embedding dimension to be used, choose from [50, 100, 200, 300]\n",
    "glove_path = os.path.expanduser('~/Downloads/glove.6B.{}d.txt'.format(EMB_DIM))\n",
    "embedding_dict = utils.load_glove_to_dict(glove_path)"
   ]
  },
  {
   "cell_type": "code",
   "execution_count": 3,
   "metadata": {},
   "outputs": [],
   "source": [
    "MAX_SEQ_LEN = 10 # The maximum input sequence length, if longer, truncate; if shorter, pad\n",
    "\n",
    "complete_csv_path = './preprocessed.csv'\n",
    "complete_df = pd.read_csv(complete_csv_path)\n",
    "\n",
    "complete_vocab = utils.build_vocab(complete_df)\n",
    "\n",
    "wvecs = utils.build_wvecs(embedding_dict, complete_vocab)\n",
    "\n",
    "train_csv_path = './train.csv'\n",
    "val_csv_path = './val.csv'\n",
    "test_csv_path = './test.csv'"
   ]
  },
  {
   "cell_type": "code",
   "execution_count": 4,
   "metadata": {},
   "outputs": [],
   "source": [
    "# Load dataset\n",
    "train_dataset = utils.GarbageDataset(train_csv_path, complete_vocab, MAX_SEQ_LEN)\n",
    "val_dataset = utils.GarbageDataset(val_csv_path, complete_vocab, MAX_SEQ_LEN)\n",
    "test_dataset = utils.GarbageDataset(test_csv_path, complete_vocab, MAX_SEQ_LEN)\n",
    "\n",
    "# Construct dataloaders\n",
    "train_loader = DataLoader(train_dataset, batch_size=32, collate_fn=utils.collate_fn)\n",
    "val_loader = DataLoader(val_dataset, batch_size=32, collate_fn=utils.collate_fn)\n",
    "test_loader = DataLoader(test_dataset, batch_size=32, collate_fn=utils.collate_fn)"
   ]
  },
  {
   "cell_type": "code",
   "execution_count": 5,
   "metadata": {},
   "outputs": [],
   "source": [
    "class baseline_mlp(nn.Module):\n",
    "    # Baseline mlp for garbage classification\n",
    "    def __init__(self, embedding_dim, vocab_size, max_seq_length=MAX_SEQ_LEN):\n",
    "        super(baseline_mlp, self).__init__()\n",
    "        self.embedding = nn.Embedding(vocab_size, embedding_dim, padding_idx=0)\n",
    "        self.fc1 = nn.Linear(embedding_dim * max_seq_length, 100)\n",
    "        self.fc2 = nn.Linear(100, 10)\n",
    "        self.out = nn.Linear(10, 4)\n",
    "    \n",
    "    def forward(self, sequence):\n",
    "        batch_size = sequence.shape[0]\n",
    "        embedded = self.embedding(sequence)\n",
    "        embedded = embedded.view(batch_size, -1)\n",
    "        z = self.fc1(embedded)\n",
    "        z = self.fc2(z)\n",
    "        z = self.out(z)\n",
    "        return z\n"
   ]
  },
  {
   "cell_type": "code",
   "execution_count": 6,
   "metadata": {},
   "outputs": [],
   "source": [
    "def eval(loader: DataLoader, model):\n",
    "    \"\"\"Evaluate the classification accuracy of model on the given dataset\n",
    "\n",
    "    Args:\n",
    "        loader (DataLoader): \n",
    "        model ([type])\n",
    "    \"\"\"\n",
    "    correct_counts = 0\n",
    "    loss_sum = 0\n",
    "    with torch.no_grad():\n",
    "        for batch in loader:\n",
    "            input, target = batch\n",
    "            input, target = input.to(device), target.to(device)\n",
    "            pred = model(input).squeeze(1)\n",
    "            pred_classes = torch.argmax(pred, dim=1)\n",
    "            correct_counts += torch.sum(pred_classes == target)\n",
    "            loss = loss_fn(pred, target.long())\n",
    "            loss_sum += loss.item() * target.shape[0]\n",
    "    return correct_counts.item() / len(loader.dataset), loss_sum / len(loader.dataset)"
   ]
  },
  {
   "cell_type": "code",
   "execution_count": 7,
   "metadata": {},
   "outputs": [
    {
     "name": "stdout",
     "output_type": "stream",
     "text": [
      "Start training\n",
      "Epoch:1\tTrain Loss:1.177743\tTrain Acc:0.466793\tVal Loss:1.169404\tVal Acc:0.417303\tTest Loss:1.177866\tTest Acc:0.440806\t\n",
      "Epoch:2\tTrain Loss:1.078463\tTrain Acc:0.533207\tVal Loss:1.128280\tVal Acc:0.478372\tTest Loss:1.111033\tTest Acc:0.496222\t\n",
      "Epoch:3\tTrain Loss:0.940378\tTrain Acc:0.627135\tVal Loss:1.068112\tVal Acc:0.524173\tTest Loss:1.047116\tTest Acc:0.534005\t\n",
      "Epoch:4\tTrain Loss:0.797013\tTrain Acc:0.687223\tVal Loss:1.005089\tVal Acc:0.547074\tTest Loss:0.989400\tTest Acc:0.569270\t\n",
      "Epoch:5\tTrain Loss:0.669050\tTrain Acc:0.745731\tVal Loss:0.967563\tVal Acc:0.580153\tTest Loss:0.954097\tTest Acc:0.602015\t\n",
      "Epoch:6\tTrain Loss:0.557485\tTrain Acc:0.787476\tVal Loss:0.950643\tVal Acc:0.597964\tTest Loss:0.938581\tTest Acc:0.624685\t\n",
      "Epoch:7\tTrain Loss:0.463511\tTrain Acc:0.832385\tVal Loss:0.949860\tVal Acc:0.608142\tTest Loss:0.936132\tTest Acc:0.647355\t\n",
      "Epoch:8\tTrain Loss:0.394843\tTrain Acc:0.858318\tVal Loss:0.966770\tVal Acc:0.633588\tTest Loss:0.952639\tTest Acc:0.659950\t\n",
      "Epoch:9\tTrain Loss:0.374073\tTrain Acc:0.854522\tVal Loss:1.038200\tVal Acc:0.643766\tTest Loss:1.031017\tTest Acc:0.634761\t\n",
      "Epoch:10\tTrain Loss:0.331596\tTrain Acc:0.866540\tVal Loss:1.090582\tVal Acc:0.651399\tTest Loss:1.081257\tTest Acc:0.647355\t\n",
      "Epoch:11\tTrain Loss:0.245059\tTrain Acc:0.913030\tVal Loss:1.068612\tVal Acc:0.661578\tTest Loss:1.053158\tTest Acc:0.662469\t\n",
      "Epoch:12\tTrain Loss:0.202959\tTrain Acc:0.933270\tVal Loss:1.086321\tVal Acc:0.653944\tTest Loss:1.093992\tTest Acc:0.677582\t\n",
      "Epoch:13\tTrain Loss:0.183224\tTrain Acc:0.940228\tVal Loss:1.149014\tVal Acc:0.653944\tTest Loss:1.180682\tTest Acc:0.682620\t\n",
      "Epoch:14\tTrain Loss:0.184785\tTrain Acc:0.935484\tVal Loss:1.238745\tVal Acc:0.659033\tTest Loss:1.306535\tTest Acc:0.680101\t\n",
      "Epoch:15\tTrain Loss:0.244581\tTrain Acc:0.906705\tVal Loss:1.404061\tVal Acc:0.659033\tTest Loss:1.545610\tTest Acc:0.659950\t\n",
      "Epoch:16\tTrain Loss:0.320113\tTrain Acc:0.880772\tVal Loss:1.601419\tVal Acc:0.638677\tTest Loss:1.806204\tTest Acc:0.617128\t\n",
      "Epoch:17\tTrain Loss:0.141905\tTrain Acc:0.952878\tVal Loss:1.425630\tVal Acc:0.646310\tTest Loss:1.522192\tTest Acc:0.659950\t\n",
      "Epoch:18\tTrain Loss:0.180274\tTrain Acc:0.935800\tVal Loss:1.550649\tVal Acc:0.651399\tTest Loss:1.689890\tTest Acc:0.657431\t\n",
      "Epoch:19\tTrain Loss:0.221429\tTrain Acc:0.921252\tVal Loss:1.644649\tVal Acc:0.653944\tTest Loss:1.867448\tTest Acc:0.632242\t\n",
      "Epoch:20\tTrain Loss:0.101081\tTrain Acc:0.965844\tVal Loss:1.464991\tVal Acc:0.666667\tTest Loss:1.569099\tTest Acc:0.680101\t\n",
      "Epoch:21\tTrain Loss:0.079186\tTrain Acc:0.971221\tVal Loss:1.446253\tVal Acc:0.666667\tTest Loss:1.509601\tTest Acc:0.687657\t\n",
      "Epoch:22\tTrain Loss:0.088834\tTrain Acc:0.965212\tVal Loss:1.490331\tVal Acc:0.666667\tTest Loss:1.529825\tTest Acc:0.682620\t\n",
      "Epoch:23\tTrain Loss:0.129880\tTrain Acc:0.945604\tVal Loss:1.581365\tVal Acc:0.646310\tTest Loss:1.628013\tTest Acc:0.657431\t\n",
      "Epoch:24\tTrain Loss:0.227438\tTrain Acc:0.916825\tVal Loss:1.795404\tVal Acc:0.638677\tTest Loss:1.904961\tTest Acc:0.654912\t\n",
      "Epoch:25\tTrain Loss:0.227245\tTrain Acc:0.919039\tVal Loss:1.843060\tVal Acc:0.643766\tTest Loss:1.977088\tTest Acc:0.652393\t\n",
      "Epoch:26\tTrain Loss:0.132501\tTrain Acc:0.952245\tVal Loss:1.706514\tVal Acc:0.664122\tTest Loss:1.818440\tTest Acc:0.675063\t\n",
      "Epoch:27\tTrain Loss:0.080803\tTrain Acc:0.968374\tVal Loss:1.643025\tVal Acc:0.669211\tTest Loss:1.728794\tTest Acc:0.677582\t\n",
      "Epoch:28\tTrain Loss:0.061551\tTrain Acc:0.974383\tVal Loss:1.641432\tVal Acc:0.664122\tTest Loss:1.704594\tTest Acc:0.685139\t\n",
      "Epoch:29\tTrain Loss:0.053844\tTrain Acc:0.978178\tVal Loss:1.663849\tVal Acc:0.669211\tTest Loss:1.688427\tTest Acc:0.680101\t\n",
      "Epoch:30\tTrain Loss:0.053280\tTrain Acc:0.978495\tVal Loss:1.693093\tVal Acc:0.661578\tTest Loss:1.715680\tTest Acc:0.672544\t\n",
      "Epoch:31\tTrain Loss:0.054096\tTrain Acc:0.978178\tVal Loss:1.713062\tVal Acc:0.661578\tTest Loss:1.768749\tTest Acc:0.659950\t\n",
      "Epoch:32\tTrain Loss:0.062301\tTrain Acc:0.975648\tVal Loss:1.761154\tVal Acc:0.656489\tTest Loss:1.857343\tTest Acc:0.664987\t\n",
      "Epoch:33\tTrain Loss:0.060146\tTrain Acc:0.975965\tVal Loss:1.795219\tVal Acc:0.659033\tTest Loss:1.880394\tTest Acc:0.654912\t\n",
      "Epoch:34\tTrain Loss:0.054754\tTrain Acc:0.976913\tVal Loss:1.822646\tVal Acc:0.661578\tTest Loss:1.869649\tTest Acc:0.659950\t\n",
      "Epoch:35\tTrain Loss:0.052357\tTrain Acc:0.979443\tVal Loss:1.857275\tVal Acc:0.659033\tTest Loss:1.868477\tTest Acc:0.670025\t\n",
      "Epoch:36\tTrain Loss:0.052739\tTrain Acc:0.979443\tVal Loss:1.892145\tVal Acc:0.659033\tTest Loss:1.885382\tTest Acc:0.667506\t\n",
      "Epoch:37\tTrain Loss:0.053827\tTrain Acc:0.980076\tVal Loss:1.920856\tVal Acc:0.661578\tTest Loss:1.904609\tTest Acc:0.670025\t\n",
      "Epoch:38\tTrain Loss:0.055046\tTrain Acc:0.979443\tVal Loss:1.946283\tVal Acc:0.659033\tTest Loss:1.920920\tTest Acc:0.675063\t\n",
      "Epoch:39\tTrain Loss:0.056811\tTrain Acc:0.978178\tVal Loss:1.973114\tVal Acc:0.661578\tTest Loss:1.937725\tTest Acc:0.685139\t\n",
      "Epoch:40\tTrain Loss:0.059335\tTrain Acc:0.975965\tVal Loss:2.002510\tVal Acc:0.666667\tTest Loss:1.957161\tTest Acc:0.685139\t\n",
      "Epoch:41\tTrain Loss:0.062644\tTrain Acc:0.975332\tVal Loss:2.032754\tVal Acc:0.661578\tTest Loss:1.980317\tTest Acc:0.685139\t\n",
      "Epoch:42\tTrain Loss:0.065753\tTrain Acc:0.974383\tVal Loss:2.060513\tVal Acc:0.653944\tTest Loss:2.001974\tTest Acc:0.682620\t\n",
      "Epoch:43\tTrain Loss:0.067566\tTrain Acc:0.974067\tVal Loss:2.081793\tVal Acc:0.653944\tTest Loss:2.018163\tTest Acc:0.682620\t\n",
      "Epoch:44\tTrain Loss:0.067315\tTrain Acc:0.975332\tVal Loss:2.094014\tVal Acc:0.659033\tTest Loss:2.027517\tTest Acc:0.685139\t\n",
      "Epoch:45\tTrain Loss:0.065517\tTrain Acc:0.976597\tVal Loss:2.101290\tVal Acc:0.661578\tTest Loss:2.032180\tTest Acc:0.687657\t\n",
      "Epoch:46\tTrain Loss:0.064104\tTrain Acc:0.976913\tVal Loss:2.109927\tVal Acc:0.656489\tTest Loss:2.036110\tTest Acc:0.685139\t\n",
      "Epoch:47\tTrain Loss:0.062308\tTrain Acc:0.978811\tVal Loss:2.106087\tVal Acc:0.659033\tTest Loss:2.036523\tTest Acc:0.685139\t\n",
      "Epoch:48\tTrain Loss:0.058381\tTrain Acc:0.978495\tVal Loss:2.078928\tVal Acc:0.661578\tTest Loss:2.029965\tTest Acc:0.682620\t\n",
      "Epoch:49\tTrain Loss:0.054897\tTrain Acc:0.979127\tVal Loss:2.053069\tVal Acc:0.666667\tTest Loss:2.022779\tTest Acc:0.675063\t\n",
      "Epoch:50\tTrain Loss:0.052064\tTrain Acc:0.979443\tVal Loss:2.033709\tVal Acc:0.671756\tTest Loss:2.016061\tTest Acc:0.680101\t\n",
      "Epoch:51\tTrain Loss:0.049956\tTrain Acc:0.979443\tVal Loss:2.021389\tVal Acc:0.671756\tTest Loss:2.010788\tTest Acc:0.680101\t\n",
      "Epoch:52\tTrain Loss:0.048696\tTrain Acc:0.980392\tVal Loss:2.014396\tVal Acc:0.669211\tTest Loss:2.007685\tTest Acc:0.677582\t\n",
      "Epoch:53\tTrain Loss:0.048208\tTrain Acc:0.981025\tVal Loss:2.009666\tVal Acc:0.671756\tTest Loss:2.006572\tTest Acc:0.675063\t\n",
      "Epoch:54\tTrain Loss:0.048358\tTrain Acc:0.980708\tVal Loss:2.005697\tVal Acc:0.674300\tTest Loss:2.006775\tTest Acc:0.677582\t\n",
      "Epoch:55\tTrain Loss:0.049049\tTrain Acc:0.979760\tVal Loss:2.003297\tVal Acc:0.679389\tTest Loss:2.007991\tTest Acc:0.675063\t\n",
      "Epoch:56\tTrain Loss:0.050134\tTrain Acc:0.980392\tVal Loss:2.002941\tVal Acc:0.674300\tTest Loss:2.009915\tTest Acc:0.677582\t\n",
      "Epoch:57\tTrain Loss:0.051425\tTrain Acc:0.980076\tVal Loss:2.004400\tVal Acc:0.676845\tTest Loss:2.012060\tTest Acc:0.680101\t\n",
      "Epoch:58\tTrain Loss:0.052757\tTrain Acc:0.980392\tVal Loss:2.007041\tVal Acc:0.679389\tTest Loss:2.013803\tTest Acc:0.682620\t\n",
      "Epoch:59\tTrain Loss:0.054023\tTrain Acc:0.980076\tVal Loss:2.010321\tVal Acc:0.676845\tTest Loss:2.014868\tTest Acc:0.680101\t\n",
      "Epoch:60\tTrain Loss:0.055133\tTrain Acc:0.980392\tVal Loss:2.013982\tVal Acc:0.674300\tTest Loss:2.015345\tTest Acc:0.677582\t\n",
      "Epoch:61\tTrain Loss:0.055979\tTrain Acc:0.980076\tVal Loss:2.018018\tVal Acc:0.674300\tTest Loss:2.015240\tTest Acc:0.675063\t\n",
      "Epoch:62\tTrain Loss:0.056451\tTrain Acc:0.980392\tVal Loss:2.022401\tVal Acc:0.669211\tTest Loss:2.014241\tTest Acc:0.675063\t\n",
      "Epoch:63\tTrain Loss:0.056504\tTrain Acc:0.980392\tVal Loss:2.026993\tVal Acc:0.669211\tTest Loss:2.012021\tTest Acc:0.675063\t\n",
      "Epoch:64\tTrain Loss:0.056208\tTrain Acc:0.980708\tVal Loss:2.031644\tVal Acc:0.669211\tTest Loss:2.008684\tTest Acc:0.680101\t\n",
      "Epoch:65\tTrain Loss:0.055694\tTrain Acc:0.980708\tVal Loss:2.036222\tVal Acc:0.666667\tTest Loss:2.004717\tTest Acc:0.677582\t\n",
      "Epoch:66\tTrain Loss:0.055081\tTrain Acc:0.980076\tVal Loss:2.040630\tVal Acc:0.661578\tTest Loss:2.000635\tTest Acc:0.675063\t\n",
      "Epoch:67\tTrain Loss:0.054451\tTrain Acc:0.980076\tVal Loss:2.044858\tVal Acc:0.666667\tTest Loss:1.996747\tTest Acc:0.675063\t\n",
      "Epoch:68\tTrain Loss:0.053849\tTrain Acc:0.979760\tVal Loss:2.048947\tVal Acc:0.666667\tTest Loss:1.993092\tTest Acc:0.675063\t\n",
      "Epoch:69\tTrain Loss:0.053296\tTrain Acc:0.979760\tVal Loss:2.052870\tVal Acc:0.666667\tTest Loss:1.989484\tTest Acc:0.675063\t\n",
      "Epoch:70\tTrain Loss:0.052802\tTrain Acc:0.979760\tVal Loss:2.056491\tVal Acc:0.666667\tTest Loss:1.985654\tTest Acc:0.672544\t\n",
      "Epoch:71\tTrain Loss:0.052382\tTrain Acc:0.980076\tVal Loss:2.059634\tVal Acc:0.666667\tTest Loss:1.981431\tTest Acc:0.670025\t\n",
      "Epoch:72\tTrain Loss:0.052054\tTrain Acc:0.980076\tVal Loss:2.062181\tVal Acc:0.666667\tTest Loss:1.976798\tTest Acc:0.670025\t\n",
      "Epoch:73\tTrain Loss:0.051840\tTrain Acc:0.980076\tVal Loss:2.064112\tVal Acc:0.666667\tTest Loss:1.971850\tTest Acc:0.672544\t\n",
      "Epoch:74\tTrain Loss:0.051761\tTrain Acc:0.980392\tVal Loss:2.065503\tVal Acc:0.666667\tTest Loss:1.966710\tTest Acc:0.672544\t\n",
      "Epoch:75\tTrain Loss:0.051830\tTrain Acc:0.979760\tVal Loss:2.066449\tVal Acc:0.666667\tTest Loss:1.961494\tTest Acc:0.672544\t\n",
      "Epoch:76\tTrain Loss:0.052055\tTrain Acc:0.980076\tVal Loss:2.067010\tVal Acc:0.659033\tTest Loss:1.956298\tTest Acc:0.675063\t\n",
      "Epoch:77\tTrain Loss:0.052430\tTrain Acc:0.979760\tVal Loss:2.067219\tVal Acc:0.659033\tTest Loss:1.951199\tTest Acc:0.670025\t\n",
      "Epoch:78\tTrain Loss:0.052941\tTrain Acc:0.979760\tVal Loss:2.067125\tVal Acc:0.659033\tTest Loss:1.946262\tTest Acc:0.670025\t\n",
      "Epoch:79\tTrain Loss:0.053568\tTrain Acc:0.979443\tVal Loss:2.066782\tVal Acc:0.659033\tTest Loss:1.941510\tTest Acc:0.670025\t\n",
      "Epoch:80\tTrain Loss:0.054279\tTrain Acc:0.979443\tVal Loss:2.066215\tVal Acc:0.659033\tTest Loss:1.936921\tTest Acc:0.670025\t\n",
      "Epoch:81\tTrain Loss:0.055039\tTrain Acc:0.979443\tVal Loss:2.065422\tVal Acc:0.653944\tTest Loss:1.932444\tTest Acc:0.672544\t\n",
      "Epoch:82\tTrain Loss:0.055820\tTrain Acc:0.979127\tVal Loss:2.064419\tVal Acc:0.656489\tTest Loss:1.928033\tTest Acc:0.672544\t\n",
      "Epoch:83\tTrain Loss:0.056606\tTrain Acc:0.978811\tVal Loss:2.063278\tVal Acc:0.656489\tTest Loss:1.923666\tTest Acc:0.672544\t\n",
      "Epoch:84\tTrain Loss:0.057401\tTrain Acc:0.977546\tVal Loss:2.062127\tVal Acc:0.659033\tTest Loss:1.919354\tTest Acc:0.664987\t\n",
      "Epoch:85\tTrain Loss:0.058227\tTrain Acc:0.977546\tVal Loss:2.061142\tVal Acc:0.664122\tTest Loss:1.915136\tTest Acc:0.664987\t\n",
      "Epoch:86\tTrain Loss:0.059119\tTrain Acc:0.977546\tVal Loss:2.060513\tVal Acc:0.664122\tTest Loss:1.911075\tTest Acc:0.664987\t\n",
      "Epoch:87\tTrain Loss:0.060113\tTrain Acc:0.977546\tVal Loss:2.060422\tVal Acc:0.669211\tTest Loss:1.907231\tTest Acc:0.664987\t\n",
      "Epoch:88\tTrain Loss:0.061238\tTrain Acc:0.977862\tVal Loss:2.061006\tVal Acc:0.664122\tTest Loss:1.903636\tTest Acc:0.662469\t\n",
      "Epoch:89\tTrain Loss:0.062503\tTrain Acc:0.977862\tVal Loss:2.062333\tVal Acc:0.666667\tTest Loss:1.900250\tTest Acc:0.662469\t\n",
      "Epoch:90\tTrain Loss:0.063893\tTrain Acc:0.977862\tVal Loss:2.064371\tVal Acc:0.669211\tTest Loss:1.896926\tTest Acc:0.662469\t\n",
      "Epoch:91\tTrain Loss:0.065365\tTrain Acc:0.977546\tVal Loss:2.066979\tVal Acc:0.669211\tTest Loss:1.893399\tTest Acc:0.662469\t\n",
      "Epoch:92\tTrain Loss:0.066853\tTrain Acc:0.977230\tVal Loss:2.069907\tVal Acc:0.664122\tTest Loss:1.889311\tTest Acc:0.664987\t\n",
      "Epoch:93\tTrain Loss:0.068281\tTrain Acc:0.977230\tVal Loss:2.072824\tVal Acc:0.661578\tTest Loss:1.884272\tTest Acc:0.667506\t\n",
      "Epoch:94\tTrain Loss:0.069573\tTrain Acc:0.975016\tVal Loss:2.075369\tVal Acc:0.656489\tTest Loss:1.877921\tTest Acc:0.662469\t\n",
      "Epoch:95\tTrain Loss:0.070666\tTrain Acc:0.975016\tVal Loss:2.077216\tVal Acc:0.659033\tTest Loss:1.869973\tTest Acc:0.659950\t\n",
      "Epoch:96\tTrain Loss:0.071516\tTrain Acc:0.974700\tVal Loss:2.078120\tVal Acc:0.653944\tTest Loss:1.860242\tTest Acc:0.659950\t\n",
      "Epoch:97\tTrain Loss:0.072086\tTrain Acc:0.974067\tVal Loss:2.077904\tVal Acc:0.646310\tTest Loss:1.848648\tTest Acc:0.659950\t\n",
      "Epoch:98\tTrain Loss:0.072335\tTrain Acc:0.973435\tVal Loss:2.076385\tVal Acc:0.646310\tTest Loss:1.835194\tTest Acc:0.662469\t\n",
      "Epoch:99\tTrain Loss:0.072190\tTrain Acc:0.973751\tVal Loss:2.073234\tVal Acc:0.646310\tTest Loss:1.819924\tTest Acc:0.662469\t\n",
      "Epoch:100\tTrain Loss:0.071536\tTrain Acc:0.973435\tVal Loss:2.067878\tVal Acc:0.643766\tTest Loss:1.802888\tTest Acc:0.667506\t\n"
     ]
    }
   ],
   "source": [
    "use_cuda = False\n",
    "device = torch.device(\"cuda:0\" if use_cuda else \"cpu\") \n",
    "\n",
    "mlp = baseline_mlp(100, len(complete_vocab)).to(device)\n",
    "mlp.embedding.weight.data.copy_(torch.from_numpy(np.array(wvecs)))\n",
    "max_epoch = 100\n",
    "\n",
    "optimizer = torch.optim.Adam(mlp.parameters(), lr=5e-4)\n",
    "\n",
    "loss_fn = nn.CrossEntropyLoss()\n",
    "loss_fn.to(device)\n",
    "\n",
    "train_acc_stats = []\n",
    "val_acc_stats = []\n",
    "test_acc_stats = []\n",
    "train_loss_stats = []\n",
    "val_loss_stats = []\n",
    "test_loss_stats = []\n",
    "\n",
    "print('Start training')\n",
    "for epoch in range(max_epoch):\n",
    "    mlp.train()\n",
    "    epoch_loss = 0\n",
    "    for batch in train_loader:\n",
    "        optimizer.zero_grad()\n",
    "        input, target = batch\n",
    "        input, target = input.to(device), target.to(device)\n",
    "        pred = mlp(input).squeeze(1)\n",
    "        loss = loss_fn(pred, target.long())\n",
    "        loss.backward()\n",
    "        optimizer.step()\n",
    "        epoch_loss += loss.item() * target.shape[0]\n",
    "\n",
    "    mlp.eval()\n",
    "\n",
    "    val_acc, val_loss = eval(val_loader, mlp)\n",
    "    train_acc, train_loss = eval(train_loader, mlp)\n",
    "    test_acc, test_loss = eval(test_loader, mlp)\n",
    "\n",
    "    val_acc_stats.append(val_acc)\n",
    "    val_loss_stats.append(val_loss)\n",
    "    train_acc_stats.append(train_acc)\n",
    "    train_loss_stats.append(train_loss)\n",
    "    test_acc_stats.append(test_acc)\n",
    "    test_loss_stats.append(test_loss)\n",
    "\n",
    "    print('Epoch:{}\\tTrain Loss:{:4f}\\tTrain Acc:{:4f}\\tVal Loss:{:4f}\\tVal Acc:{:4f}\\tTest Loss:{:4f}\\tTest Acc:{:4f}\\t'.format(\n",
    "        epoch+1, train_loss, train_acc, val_loss, val_acc,test_loss,test_acc))\n"
   ]
  },
  {
   "cell_type": "code",
   "execution_count": 9,
   "metadata": {},
   "outputs": [
    {
     "data": {
      "image/png": "[encoded data removed]",
      "text/plain": [
       "<Figure size 432x288 with 1 Axes>"
      ]
     },
     "metadata": {
      "needs_background": "light"
     },
     "output_type": "display_data"
    }
   ],
   "source": [
    "import matplotlib.pyplot as plt\n",
    "plt.figure()\n",
    "E = np.arange(1, max_epoch+1,1)\n",
    "plt.title('Learning Curve -- Loss')\n",
    "plt.plot(E, train_loss_stats, label='Train')\n",
    "plt.plot(E, val_loss_stats, label='Validation')\n",
    "plt.plot(E, test_loss_stats, label='Test')\n",
    "plt.legend()\n",
    "plt.xlabel('Epoch')\n",
    "plt.ylabel('Loss')\n",
    "plt.show()"
   ]
  },
  {
   "cell_type": "code",
   "execution_count": 10,
   "metadata": {},
   "outputs": [
    {
     "data": {
      "image/png": "[encoded data removed]",
      "text/plain": [
       "<Figure size 432x288 with 1 Axes>"
      ]
     },
     "metadata": {
      "needs_background": "light"
     },
     "output_type": "display_data"
    }
   ],
   "source": [
    "import matplotlib.pyplot as plt\n",
    "plt.figure()\n",
    "E = np.arange(1, max_epoch+1,1)\n",
    "plt.title('Learning Curve -- Accuracy')\n",
    "plt.plot(E, train_acc_stats, label='Train')\n",
    "plt.plot(E, val_acc_stats, label='Validation')\n",
    "plt.plot(E, test_acc_stats, label='Test')\n",
    "plt.legend()\n",
    "plt.xlabel('Epoch')\n",
    "plt.ylabel('Accuracy')\n",
    "plt.show()"
   ]
  }
 ],
 "metadata": {
  "interpreter": {
   "hash": "d8f3821bc8ce5ba3f2847f1460fc195392b13ae11e6e17f1a78bf53cc684b053"
  },
  "kernelspec": {
   "display_name": "Python 3.8.5 64-bit ('base': conda)",
   "name": "python3"
  },
  "language_info": {
   "codemirror_mode": {
    "name": "ipython",
    "version": 3
   },
   "file_extension": ".py",
   "mimetype": "text/x-python",
   "name": "python",
   "nbconvert_exporter": "python",
   "pygments_lexer": "ipython3",
   "version": "3.8.5"
  },
  "orig_nbformat": 4
 },
 "nbformat": 4,
 "nbformat_minor": 2
}
