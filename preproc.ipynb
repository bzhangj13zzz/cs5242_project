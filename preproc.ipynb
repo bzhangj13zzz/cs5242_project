{
 "cells": [
  {
   "cell_type": "code",
   "execution_count": null,
   "metadata": {},
   "outputs": [],
   "source": [
    "# This notebook is for preprocessing of raw garbage classification dataset\n",
    "# The raw dataset consists of Chinese description of garbage and their corresponding classes\n",
    "%load_ext autoreload\n",
    "%autoreload 2\n",
    "import utils\n",
    "import os\n",
    "import pandas as pd\n",
    "\n",
    "label_mapping = {1: 'recyclable', 2: 'hazardous', 4: 'wet', 8: 'dry'}"
   ]
  },
  {
   "cell_type": "code",
   "execution_count": null,
   "metadata": {},
   "outputs": [],
   "source": [
    "# Translate into English before proceeding\n",
    "csv_path = './garbage.csv'\n",
    "translated_csv_path = utils.translate_garbage_names(csv_path)"
   ]
  },
  {
   "cell_type": "code",
   "execution_count": null,
   "metadata": {},
   "outputs": [],
   "source": [
    "preprocessed_csv_path = utils.preprocess(translated_csv_path)"
   ]
  },
  {
   "cell_type": "code",
   "execution_count": null,
   "metadata": {},
   "outputs": [],
   "source": [
    "# Split into train/dev/test\n",
    "from sklearn.model_selection import train_test_split\n",
    "complete_df = pd.read_csv(preprocessed_csv_path)\n",
    "train_df, test_and_val_df = train_test_split(complete_df, test_size=0.2)\n",
    "test_df, val_df = train_test_split(test_and_val_df, test_size=0.5)\n",
    "\n",
    "print('Training set contains {}, validation test contains {}, test set contains {}'.format(len(train_df), len(val_df), len(test_df)))\n",
    "train_df.to_csv('train.csv', index=False)\n",
    "val_df.to_csv('val.csv', index=False)\n",
    "test_df.to_csv('test.csv', index=False)"
   ]
  },
  {
   "cell_type": "code",
   "execution_count": null,
   "metadata": {},
   "outputs": [],
   "source": [
    "train_df, test_and_val_df = train_test_split(complete_df, test_size=0.2)\n",
    "test_df, val_df = train_test_split(test_and_val_df, test_size=0.5)\n",
    "print('Training set contains {}, validation test contains {}, test set contains {}'.format(len(train_df), len(val_df), len(test_df)))\n",
    "train_df.to_csv('train.csv', index=False)\n",
    "val_df.to_csv('val.csv', index=False)\n",
    "test_df.to_csv('test.csv', index=False)"
   ]
  }
 ],
 "metadata": {
  "interpreter": {
   "hash": "88599d39be6bb73bfcba134737126a1f34afe518a85e5e2c456db22b1d0276eb"
  },
  "kernelspec": {
   "display_name": "Python 3.7.9 64-bit ('base': conda)",
   "name": "python3"
  },
  "language_info": {
   "codemirror_mode": {
    "name": "ipython",
    "version": 3
   },
   "file_extension": ".py",
   "mimetype": "text/x-python",
   "name": "python",
   "nbconvert_exporter": "python",
   "pygments_lexer": "ipython3",
   "version": "3.7.9"
  },
  "orig_nbformat": 4
 },
 "nbformat": 4,
 "nbformat_minor": 2
}
