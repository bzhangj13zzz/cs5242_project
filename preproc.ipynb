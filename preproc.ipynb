{
 "cells": [
  {
   "cell_type": "code",
   "execution_count": 4,
   "metadata": {},
   "outputs": [
    {
     "name": "stdout",
     "output_type": "stream",
     "text": [
      "The autoreload extension is already loaded. To reload it, use:\n",
      "  %reload_ext autoreload\n"
     ]
    }
   ],
   "source": [
    "# This notebook is for preprocessing of raw garbage classification dataset\n",
    "# The raw dataset consists of Chinese description of garbage and their corresponding classes\n",
    "%load_ext autoreload\n",
    "%autoreload 2\n",
    "import utils\n",
    "import os\n",
    "import pandas as pd\n",
    "\n",
    "label_mapping = {1: 'recyclable', 2: 'hazardous', 4: 'wet', 8: 'dry'}"
   ]
  },
  {
   "cell_type": "code",
   "execution_count": 5,
   "metadata": {},
   "outputs": [
    {
     "name": "stdout",
     "output_type": "stream",
     "text": [
      "Translated file already exists!\n"
     ]
    }
   ],
   "source": [
    "# Translate into English before proceeding\n",
    "csv_path = os.path.expanduser('~/Documents/Coding/NUS/CS5242_project/garbage-classification-data/garbage.csv')\n",
    "translated_csv_path = utils.translate_garbage_names(csv_path)"
   ]
  },
  {
   "cell_type": "code",
   "execution_count": 6,
   "metadata": {},
   "outputs": [
    {
     "name": "stdout",
     "output_type": "stream",
     "text": [
      "Preprocessed file already exists!\n"
     ]
    }
   ],
   "source": [
    "preprocessed_csv_path = utils.preprocess(translated_csv_path)"
   ]
  },
  {
   "cell_type": "code",
   "execution_count": null,
   "metadata": {},
   "outputs": [],
   "source": []
  }
 ],
 "metadata": {
  "interpreter": {
   "hash": "d8f3821bc8ce5ba3f2847f1460fc195392b13ae11e6e17f1a78bf53cc684b053"
  },
  "kernelspec": {
   "display_name": "Python 3.8.5 64-bit ('base': conda)",
   "name": "python3"
  },
  "language_info": {
   "codemirror_mode": {
    "name": "ipython",
    "version": 3
   },
   "file_extension": ".py",
   "mimetype": "text/x-python",
   "name": "python",
   "nbconvert_exporter": "python",
   "pygments_lexer": "ipython3",
   "version": "3.8.5"
  },
  "orig_nbformat": 4
 },
 "nbformat": 4,
 "nbformat_minor": 2
}
